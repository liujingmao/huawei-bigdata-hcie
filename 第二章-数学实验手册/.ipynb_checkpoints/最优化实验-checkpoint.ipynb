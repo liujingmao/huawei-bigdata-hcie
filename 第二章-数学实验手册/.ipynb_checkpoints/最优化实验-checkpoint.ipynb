{
 "cells": [
  {
   "cell_type": "markdown",
   "id": "9fed303d-ddfa-4eb3-9851-a02288bfd5ee",
   "metadata": {},
   "source": [
    "### 最小二乘法"
   ]
  },
  {
   "cell_type": "code",
   "execution_count": 2,
   "id": "bc0bd3dc-7fba-4053-bdf7-e3071dd8714c",
   "metadata": {},
   "outputs": [],
   "source": [
    "import numpy as np\n",
    "import scipy as sp\n",
    "import pylab as pl\n",
    "from scipy.optimize import leastsq\n",
    "n = 9\n"
   ]
  },
  {
   "cell_type": "code",
   "execution_count": 11,
   "id": "51dce1ce-0951-45c8-aeda-a763ac688bb2",
   "metadata": {},
   "outputs": [],
   "source": [
    "# define taret func\n",
    "def real_func(x):\n",
    "    # target func\n",
    "    return np.sin(2*np.pi*x)"
   ]
  },
  {
   "cell_type": "code",
   "execution_count": null,
   "id": "0c96c0ce-24ad-4bca-aed5-df9cc9d41c30",
   "metadata": {},
   "outputs": [],
   "source": []
  },
  {
   "cell_type": "code",
   "execution_count": 3,
   "id": "3c7bfe78-32fc-46e1-afeb-91fceb005438",
   "metadata": {},
   "outputs": [],
   "source": [
    "def fit_func(p,x):\n",
    "    f = np.poly1d(p)\n",
    "    return f(x) "
   ]
  },
  {
   "cell_type": "code",
   "execution_count": 5,
   "id": "b66a8206-6498-4105-8df6-fb32e5d5f526",
   "metadata": {},
   "outputs": [],
   "source": [
    "def residuals_func(p,y,x):\n",
    "    ret = fit_func(p,x) - y\n",
    "    return ret"
   ]
  },
  {
   "cell_type": "code",
   "execution_count": 6,
   "id": "941b31f5-276c-40f7-b904-5116bce2d56c",
   "metadata": {},
   "outputs": [],
   "source": [
    "x = np.linspace(0,1,9)"
   ]
  },
  {
   "cell_type": "code",
   "execution_count": 7,
   "id": "4ce97200-e490-4737-88cc-bf2adbdc6b58",
   "metadata": {},
   "outputs": [
    {
     "data": {
      "text/plain": [
       "array([0.   , 0.125, 0.25 , 0.375, 0.5  , 0.625, 0.75 , 0.875, 1.   ])"
      ]
     },
     "execution_count": 7,
     "metadata": {},
     "output_type": "execute_result"
    }
   ],
   "source": [
    "x"
   ]
  },
  {
   "cell_type": "code",
   "execution_count": 9,
   "id": "5573c66b-5c6d-4822-90f5-07ef8733ca4c",
   "metadata": {},
   "outputs": [],
   "source": [
    "x_points = np.linspace(0,1,1000)"
   ]
  },
  {
   "cell_type": "code",
   "execution_count": 12,
   "id": "22e2668c-0810-46ef-99f9-94179b80688d",
   "metadata": {},
   "outputs": [],
   "source": [
    "y0 = real_func(x)"
   ]
  },
  {
   "cell_type": "code",
   "execution_count": 15,
   "id": "e41c73a6-7e04-424c-ac6c-58ac76a82c4c",
   "metadata": {},
   "outputs": [],
   "source": [
    "y1 =[np.random.normal(0,0.1)+ y for y in y0]\n",
    "p_init = np.random.randint(n)"
   ]
  },
  {
   "cell_type": "code",
   "execution_count": 16,
   "id": "206bee4d-e603-42a1-87d2-b4353c5bd750",
   "metadata": {},
   "outputs": [],
   "source": [
    "plsq = leastsq(func=residuals_func,x0=p_init,args=(y1,x))"
   ]
  },
  {
   "cell_type": "code",
   "execution_count": 17,
   "id": "72f00e74-631c-4923-91cd-2cf695b1bb9c",
   "metadata": {},
   "outputs": [
    {
     "name": "stdout",
     "output_type": "stream",
     "text": [
      "Fitting Parameters [0.00792251]\n"
     ]
    }
   ],
   "source": [
    "print(\"Fitting Parameters\",plsq[0])"
   ]
  },
  {
   "cell_type": "code",
   "execution_count": 21,
   "id": "342fc8fd-ea74-408a-976b-752d9664a794",
   "metadata": {},
   "outputs": [
    {
     "data": {
      "image/png": "[encoded data removed]",
      "text/plain": [
       "<Figure size 432x288 with 1 Axes>"
      ]
     },
     "metadata": {
      "needs_background": "light"
     },
     "output_type": "display_data"
    }
   ],
   "source": [
    "pl.plot(x_points,real_func(x_points),label='real')\n",
    "pl.plot(x_points,fit_func(plsq[0],x_points),label='fitted_curve')\n",
    "pl.plot(x,y1,'bo',label='with noise')\n",
    "pl.legend()\n",
    "pl.show()"
   ]
  },
  {
   "cell_type": "code",
   "execution_count": null,
   "id": "6a1d596a-874e-4b49-a4e5-2227c9c81a7a",
   "metadata": {},
   "outputs": [],
   "source": []
  },
  {
   "cell_type": "code",
   "execution_count": 19,
   "id": "c8050341-099b-4653-b2e2-3b2ffbc50187",
   "metadata": {},
   "outputs": [
    {
     "data": {
      "text/plain": [
       "[<matplotlib.lines.Line2D at 0x7fe467dd5f70>]"
      ]
     },
     "execution_count": 19,
     "metadata": {},
     "output_type": "execute_result"
    },
    {
     "data": {
      "image/png": "[encoded data removed]",
      "text/plain": [
       "<Figure size 432x288 with 1 Axes>"
      ]
     },
     "metadata": {
      "needs_background": "light"
     },
     "output_type": "display_data"
    }
   ],
   "source": [
    "pl.plot(x,y1,'bo',label='with noise')"
   ]
  },
  {
   "cell_type": "code",
   "execution_count": 20,
   "id": "ed75ab73-aca9-4250-9a76-c46a0a80a8c9",
   "metadata": {},
   "outputs": [
    {
     "name": "stderr",
     "output_type": "stream",
     "text": [
      "No handles with labels found to put in legend.\n"
     ]
    },
    {
     "data": {
      "image/png": "[encoded data removed]",
      "text/plain": [
       "<Figure size 432x288 with 1 Axes>"
      ]
     },
     "metadata": {
      "needs_background": "light"
     },
     "output_type": "display_data"
    }
   ],
   "source": [
    "pl.legend()\n",
    "pl.show()"
   ]
  },
  {
   "cell_type": "code",
   "execution_count": null,
   "id": "9658b5f8-c748-4e5b-a7a8-c3193adcf752",
   "metadata": {},
   "outputs": [],
   "source": []
  },
  {
   "cell_type": "code",
   "execution_count": null,
   "id": "b91773c0-aa9d-45cc-b4ed-3529db1d4f98",
   "metadata": {},
   "outputs": [],
   "source": []
  },
  {
   "cell_type": "code",
   "execution_count": null,
   "id": "80d08be8-6d82-47bb-8ae4-feeeea84e0e6",
   "metadata": {},
   "outputs": [],
   "source": []
  },
  {
   "cell_type": "code",
   "execution_count": null,
   "id": "b97510e5-4c05-4445-b5ed-70767e0524a0",
   "metadata": {},
   "outputs": [],
   "source": []
  }
 ],
 "metadata": {
  "kernelspec": {
   "display_name": "Python 3 (ipykernel)",
   "language": "python",
   "name": "python3"
  },
  "language_info": {
   "codemirror_mode": {
    "name": "ipython",
    "version": 3
   },
   "file_extension": ".py",
   "mimetype": "text/x-python",
   "name": "python",
   "nbconvert_exporter": "python",
   "pygments_lexer": "ipython3",
   "version": "3.9.7"
  }
 },
 "nbformat": 4,
 "nbformat_minor": 5
}
