{
 "cells": [
  {
   "cell_type": "markdown",
   "id": "1f02b979-ff68-4dbf-a345-c9aa7291d80a",
   "metadata": {},
   "source": [
    "### 概率论内容实现"
   ]
  },
  {
   "cell_type": "markdown",
   "id": "cb555856-66b5-447d-b017-bf7aa0746efa",
   "metadata": {},
   "source": [
    "#### 均值实现"
   ]
  },
  {
   "cell_type": "code",
   "execution_count": 1,
   "id": "7439ddb9-2a64-4efa-a0d8-0191712ddf25",
   "metadata": {},
   "outputs": [],
   "source": [
    "import numpy as np\n",
    "import pandas as pd"
   ]
  },
  {
   "cell_type": "code",
   "execution_count": 2,
   "id": "cfbecf80-4bea-4db2-a07f-48ce230acce7",
   "metadata": {},
   "outputs": [],
   "source": [
    "ll = [[1,2,3,4,5,6],[3,4,5,6,7,8]]"
   ]
  },
  {
   "cell_type": "code",
   "execution_count": 3,
   "id": "369b1c91-bae3-4d0a-a442-66f587d250ce",
   "metadata": {},
   "outputs": [
    {
     "name": "stdout",
     "output_type": "stream",
     "text": [
      "[[1, 2, 3, 4, 5, 6], [3, 4, 5, 6, 7, 8]]\n"
     ]
    }
   ],
   "source": [
    "print(ll)"
   ]
  },
  {
   "cell_type": "code",
   "execution_count": 4,
   "id": "2272bbeb-5051-4aed-959b-9460a0ca0109",
   "metadata": {},
   "outputs": [
    {
     "data": {
      "text/plain": [
       "4.5"
      ]
     },
     "execution_count": 4,
     "metadata": {},
     "output_type": "execute_result"
    }
   ],
   "source": [
    "# mean values in ll\n",
    "np.mean(ll)"
   ]
  },
  {
   "cell_type": "code",
   "execution_count": 5,
   "id": "319c970b-3aeb-4345-affa-0c55623f304f",
   "metadata": {},
   "outputs": [
    {
     "data": {
      "text/plain": [
       "array([2., 3., 4., 5., 6., 7.])"
      ]
     },
     "execution_count": 5,
     "metadata": {},
     "output_type": "execute_result"
    }
   ],
   "source": [
    "np.mean(ll,0) # 按列取平均值,0表示列向量"
   ]
  },
  {
   "cell_type": "code",
   "execution_count": 6,
   "id": "fd3a25a4-c206-4e6b-b910-33eb29700f70",
   "metadata": {},
   "outputs": [
    {
     "data": {
      "text/plain": [
       "array([3.5, 5.5])"
      ]
     },
     "execution_count": 6,
     "metadata": {},
     "output_type": "execute_result"
    }
   ],
   "source": [
    "np.mean(ll,1) # 按行取平均值,1代表行"
   ]
  },
  {
   "cell_type": "markdown",
   "id": "eed280f0-14bb-49ff-a326-262e486c96a2",
   "metadata": {},
   "source": [
    "#### 方差实现"
   ]
  },
  {
   "cell_type": "code",
   "execution_count": 8,
   "id": "54f0ea6d-2d58-4d00-8268-9202a23a10bc",
   "metadata": {},
   "outputs": [],
   "source": [
    "b = [1,3,5,6]\n",
    "ll = [[1,2,3,4,5,6],[3,4,5,6,7,8]]\n"
   ]
  },
  {
   "cell_type": "code",
   "execution_count": 9,
   "id": "32c3068f-d647-4305-b96c-1bcd04be546b",
   "metadata": {},
   "outputs": [
    {
     "data": {
      "text/plain": [
       "3.6875"
      ]
     },
     "execution_count": 9,
     "metadata": {},
     "output_type": "execute_result"
    }
   ],
   "source": [
    "np.var(b)"
   ]
  },
  {
   "cell_type": "code",
   "execution_count": 10,
   "id": "f93adbde-ef5d-4ab1-8cf1-c6f03cd39102",
   "metadata": {},
   "outputs": [
    {
     "data": {
      "text/plain": [
       "array([2.91666667, 2.91666667])"
      ]
     },
     "execution_count": 10,
     "metadata": {},
     "output_type": "execute_result"
    }
   ],
   "source": [
    "np.var(ll,1)"
   ]
  },
  {
   "cell_type": "code",
   "execution_count": 11,
   "id": "fc2206fb-da2e-4b27-85a9-e81d462c889a",
   "metadata": {},
   "outputs": [
    {
     "data": {
      "text/plain": [
       "array([1., 1., 1., 1., 1., 1.])"
      ]
     },
     "execution_count": 11,
     "metadata": {},
     "output_type": "execute_result"
    }
   ],
   "source": [
    "np.var(ll,0)"
   ]
  },
  {
   "cell_type": "markdown",
   "id": "ac3a3696-216d-41b5-a4ee-bd5fb51c070e",
   "metadata": {},
   "source": [
    "#### 标准差实现"
   ]
  },
  {
   "cell_type": "code",
   "execution_count": 12,
   "id": "0242b825-f56e-459f-909a-78bfac8c7d63",
   "metadata": {},
   "outputs": [
    {
     "data": {
      "text/plain": [
       "1.920286436967152"
      ]
     },
     "execution_count": 12,
     "metadata": {},
     "output_type": "execute_result"
    }
   ],
   "source": [
    "b=[1,3,5,6]\n",
    "np.std(b)"
   ]
  },
  {
   "cell_type": "code",
   "execution_count": 13,
   "id": "64323e27-f098-4fab-9d39-68d168c178ed",
   "metadata": {},
   "outputs": [
    {
     "data": {
      "text/plain": [
       "1.9790570145063195"
      ]
     },
     "execution_count": 13,
     "metadata": {},
     "output_type": "execute_result"
    }
   ],
   "source": [
    "np.std(ll)"
   ]
  },
  {
   "cell_type": "markdown",
   "id": "49597715-af41-4c47-8bf0-a3624bb519ce",
   "metadata": {},
   "source": [
    "#### 协方差实现"
   ]
  },
  {
   "cell_type": "code",
   "execution_count": 14,
   "id": "3c0bda9a-a75c-4f90-84a3-b89ae7c5cdef",
   "metadata": {},
   "outputs": [
    {
     "data": {
      "text/plain": [
       "array(4.91666667)"
      ]
     },
     "execution_count": 14,
     "metadata": {},
     "output_type": "execute_result"
    }
   ],
   "source": [
    "np.cov(b)"
   ]
  },
  {
   "cell_type": "markdown",
   "id": "75dcc71f-5926-49b9-baa4-508e1030c040",
   "metadata": {},
   "source": [
    "#### 相关系数"
   ]
  },
  {
   "cell_type": "code",
   "execution_count": 22,
   "id": "93475296-c192-4e80-b4a2-1631d6f1eb3f",
   "metadata": {},
   "outputs": [],
   "source": [
    "vc=[1,2,39,0,8]\n",
    "vb=[1,2,38,0,8]"
   ]
  },
  {
   "cell_type": "code",
   "execution_count": 23,
   "id": "416a241c-80c3-41fb-bedc-f697d1387835",
   "metadata": {},
   "outputs": [
    {
     "data": {
      "text/plain": [
       "array([[1.        , 0.99998623],\n",
       "       [0.99998623, 1.        ]])"
      ]
     },
     "execution_count": 23,
     "metadata": {},
     "output_type": "execute_result"
    }
   ],
   "source": [
    "np.corrcoef(vc,vb)"
   ]
  },
  {
   "cell_type": "code",
   "execution_count": 24,
   "id": "a6572ba0-8c06-4073-bb4d-5f0ce25c8388",
   "metadata": {},
   "outputs": [
    {
     "data": {
      "text/plain": [
       "array([[1.        , 0.99998623],\n",
       "       [0.99998623, 1.        ]])"
      ]
     },
     "execution_count": 24,
     "metadata": {},
     "output_type": "execute_result"
    }
   ],
   "source": [
    "np.corrcoef(vb,vc)"
   ]
  },
  {
   "cell_type": "code",
   "execution_count": 21,
   "id": "21241fda-b0ab-4f3b-bef9-0b42ee358360",
   "metadata": {},
   "outputs": [
    {
     "name": "stdout",
     "output_type": "stream",
     "text": [
      "[[1.         0.99998623]\n",
      " [0.99998623 1.        ]]\n"
     ]
    }
   ],
   "source": [
    "print(np.corrcoef(vc,vb))"
   ]
  },
  {
   "cell_type": "code",
   "execution_count": null,
   "id": "f04e1fe5-ea29-4e50-8c81-ab013938d689",
   "metadata": {},
   "outputs": [],
   "source": []
  },
  {
   "cell_type": "markdown",
   "id": "f8a2bbc3-66c7-4d3d-9d28-7525c1d5fe1b",
   "metadata": {},
   "source": [
    "#### 二项分布实现"
   ]
  },
  {
   "cell_type": "markdown",
   "id": "590b04ca-5ca1-4504-a681-3c35d12bd1e7",
   "metadata": {},
   "source": [
    "服从二项分布的随机变量X表示在n次独立同分布的伯努利试验中的次数,其中每次试验成功的概率是p"
   ]
  },
  {
   "cell_type": "code",
   "execution_count": 26,
   "id": "16442ddb-8178-4153-a3bd-3fea013c185d",
   "metadata": {},
   "outputs": [],
   "source": [
    "# 输入代码\n",
    "from scipy.stats import binom,norm,beta,expon\n",
    "import numpy as np\n",
    "import matplotlib.pyplot as plt"
   ]
  },
  {
   "cell_type": "code",
   "execution_count": 27,
   "id": "ff0c4b28-ba8d-4f0c-a178-cd1dd430f0f3",
   "metadata": {},
   "outputs": [
    {
     "name": "stdout",
     "output_type": "stream",
     "text": [
      "Data: [3 2 3 ... 1 2 6]\n"
     ]
    }
   ],
   "source": [
    "# n,p对应二项式的事件成功次数及其概率 size 表示采样的次数\n",
    "binom_sim = binom.rvs(n=10,p=0.3,size=10000)\n",
    "print(\"Data:\",binom_sim)"
   ]
  },
  {
   "cell_type": "code",
   "execution_count": 32,
   "id": "44db1c1c-cb86-45b6-abba-9dbf464fd5f0",
   "metadata": {},
   "outputs": [
    {
     "name": "stdout",
     "output_type": "stream",
     "text": [
      "Mean: 2.9935\n"
     ]
    }
   ],
   "source": [
    "# Print Mean Value\n",
    "print(\"Mean: %g\" % np.mean(binom_sim))"
   ]
  },
  {
   "cell_type": "code",
   "execution_count": 33,
   "id": "cf355e8f-1807-4c48-9b54-5f0e02dd820d",
   "metadata": {},
   "outputs": [
    {
     "name": "stdout",
     "output_type": "stream",
     "text": [
      "Std Values:1.45233\n"
     ]
    }
   ],
   "source": [
    "# print std 标准差\n",
    "print(\"Std Values:%g\" % np.std(binom_sim,ddof=1))"
   ]
  },
  {
   "cell_type": "code",
   "execution_count": 52,
   "id": "b7d14fdb-3aef-4cbe-a160-a808c1abb32f",
   "metadata": {},
   "outputs": [
    {
     "data": {
      "image/png": "[encoded data removed]",
      "text/plain": [
       "<Figure size 432x288 with 1 Axes>"
      ]
     },
     "metadata": {
      "needs_background": "light"
     },
     "output_type": "display_data"
    }
   ],
   "source": [
    "plt.hist(binom_sim,bins=10)\n",
    "plt.xlabel(('X'))\n",
    "plt.ylabel(('Density'))\n",
    "plt.grid()\n",
    "plt.show()"
   ]
  },
  {
   "cell_type": "markdown",
   "id": "19b0bf15-fd7c-4297-9568-5c9820cac2f3",
   "metadata": {},
   "source": [
    "#### 泊松分布实现"
   ]
  },
  {
   "cell_type": "code",
   "execution_count": null,
   "id": "99e9fd68-3f8f-4f6f-90ba-167983f9162f",
   "metadata": {},
   "outputs": [],
   "source": [
    "# generate 10000个 lambda = 2的泊松分布的数\n",
    "X = np.random.poisson(lam=2,size=10000)\n",
    "plt.hist(X,bins=15,range=[0,15])\n",
    "plt.grid()\n",
    "plt.show()"
   ]
  },
  {
   "cell_type": "code",
   "execution_count": null,
   "id": "52e5935a-0186-4d25-a37c-7e2e4f8cb570",
   "metadata": {},
   "outputs": [],
   "source": []
  },
  {
   "cell_type": "markdown",
   "id": "c2de812d-3af9-4df6-8a34-f77c75841adb",
   "metadata": {},
   "source": [
    "#### 正态分布实现"
   ]
  },
  {
   "cell_type": "code",
   "execution_count": 63,
   "id": "415d092c-790d-4d5a-8a0f-dbce56048c2a",
   "metadata": {},
   "outputs": [
    {
     "data": {
      "image/png": "[encoded data removed]",
      "text/plain": [
       "<Figure size 432x288 with 1 Axes>"
      ]
     },
     "metadata": {
      "needs_background": "light"
     },
     "output_type": "display_data"
    }
   ],
   "source": [
    "from scipy.stats import norm\n",
    "import numpy as np\n",
    "import matplotlib.pyplot as plt\n",
    "\n",
    "num = 0\n",
    "sigma = 1\n",
    "\n",
    "x = np.arange(-5,5,0.1)\n",
    "y = norm.pdf(x,num,sigma)\n",
    "plt.plot(x,y)\n",
    "plt.xlabel('X')\n",
    "plt.ylabel(\"density\")\n",
    "plt.show()"
   ]
  },
  {
   "cell_type": "code",
   "execution_count": null,
   "id": "ae3344a5-f468-414b-bb75-5bd2411acc15",
   "metadata": {},
   "outputs": [],
   "source": []
  },
  {
   "cell_type": "markdown",
   "id": "3750ebce-97bd-4a5f-a790-565cce3626d9",
   "metadata": {},
   "source": [
    "#### 指数分布"
   ]
  },
  {
   "cell_type": "code",
   "execution_count": 67,
   "id": "866819fd-f85d-48f0-a7f4-4e77be2af1ce",
   "metadata": {},
   "outputs": [
    {
     "data": {
      "image/png": "[encoded data removed]",
      "text/plain": [
       "<Figure size 432x288 with 1 Axes>"
      ]
     },
     "metadata": {
      "needs_background": "light"
     },
     "output_type": "display_data"
    }
   ],
   "source": [
    "from scipy.stats import expon\n",
    "import numpy as np\n",
    "import matplotlib.pyplot as plg\n",
    "\n",
    "lam = 0.5\n",
    "x = np.arange(0,15,0.1)\n",
    "y = expon.pdf(x,lam)\n",
    "plt.plot(x,y)\n",
    "plt.title(\"This is my feing\")\n",
    "plt.xlabel(\"X\")\n",
    "plt.ylabel(\"densit\")\n",
    "plt.show()"
   ]
  },
  {
   "cell_type": "markdown",
   "id": "fbacca02-e25f-433d-8ba6-34414acc1803",
   "metadata": {},
   "source": [
    "#### 中心极限限定定理的验证"
   ]
  },
  {
   "cell_type": "code",
   "execution_count": 68,
   "id": "1c8ff1d5-2199-4eb8-8ebf-a6f57e295aa3",
   "metadata": {},
   "outputs": [
    {
     "name": "stdout",
     "output_type": "stream",
     "text": [
      "3.5105\n"
     ]
    }
   ],
   "source": [
    "# 随机产生10000个1-6的数字\n",
    "ramdon_data = np.random.randint(1,7,10000)\n",
    "print(np.mean(ramdon_data))"
   ]
  },
  {
   "cell_type": "code",
   "execution_count": 69,
   "id": "43f00964-a690-4390-94de-88acd67ae998",
   "metadata": {},
   "outputs": [
    {
     "name": "stdout",
     "output_type": "stream",
     "text": [
      "1.7058398957698229\n"
     ]
    }
   ],
   "source": [
    "print(np.std(ramdon_data))"
   ]
  },
  {
   "cell_type": "code",
   "execution_count": 70,
   "id": "2597c65d-1aae-432f-b53a-956e1eac4134",
   "metadata": {},
   "outputs": [
    {
     "data": {
      "image/png": "[encoded data removed]",
      "text/plain": [
       "<Figure size 432x288 with 1 Axes>"
      ]
     },
     "metadata": {
      "needs_background": "light"
     },
     "output_type": "display_data"
    }
   ],
   "source": [
    "plt.figure()\n",
    "plt.hist(ramdon_data,bins = 6,facecolor='blue')\n",
    "plt.xlabel('X')\n",
    "plt.ylabel('n')\n",
    "plt.show()"
   ]
  },
  {
   "cell_type": "code",
   "execution_count": 71,
   "id": "b2b8fd5d-8879-4367-a1e3-aca428c217b6",
   "metadata": {},
   "outputs": [
    {
     "name": "stdout",
     "output_type": "stream",
     "text": [
      "[5 2 3 3 3 4 6 6 6]\n",
      "4.222222222222222\n",
      "1.4740554623801778\n"
     ]
    }
   ],
   "source": [
    "# 随机抽取10个数据\n",
    "sample1=[]\n",
    "# 从生成的10000个数中随机抽取10个\n",
    "for i in range(1,10):\n",
    "    # \n",
    "    sample1.append(ramdon_data[int(np.random.random()*len(ramdon_data))])\n",
    "    \n",
    "sample1=np.array(sample1)\n",
    "print(sample1)\n",
    "print(np.mean(sample1))\n",
    "print(np.std(sample1))"
   ]
  },
  {
   "cell_type": "code",
   "execution_count": 77,
   "id": "6bc2b24b-72d2-4c7e-88c4-ab7ab663ee14",
   "metadata": {},
   "outputs": [
    {
     "data": {
      "image/png": "[encoded data removed]",
      "text/plain": [
       "<Figure size 432x288 with 1 Axes>"
      ]
     },
     "metadata": {
      "needs_background": "light"
     },
     "output_type": "display_data"
    }
   ],
   "source": [
    "samples = []\n",
    "samples_mean = []\n",
    "samples_std = []\n",
    "\n",
    "# 从生成的1000个数据中随机抽取1000组\n",
    "for i in range(0,1000):\n",
    "    sample = []\n",
    "    # 每组随机抽取50个数\n",
    "    for j in range(0,50):\n",
    "        sample.append(ramdon_data[int(np.random.random()*len(ramdon_data))])\n",
    "    # \n",
    "    sample_ar = np.array(sample)\n",
    "    samples.append(sample_ar)\n",
    "    samples_mean.append(sample_ar.mean())\n",
    "    \n",
    "samples_std.append(sample_ar.std())\n",
    "plt.figure()\n",
    "plt.hist(samples_mean,bins=10,facecolor='blue')\n",
    "plt.xlabel('X')\n",
    "plt.ylabel('n')\n",
    "plt.show()"
   ]
  },
  {
   "cell_type": "code",
   "execution_count": 78,
   "id": "d8ed4f3d-81dc-42d9-affe-bbd2a76d7f2c",
   "metadata": {},
   "outputs": [],
   "source": [
    "bino_data = binom.rvs(n=10,p=0.3,size=1000)"
   ]
  },
  {
   "cell_type": "code",
   "execution_count": null,
   "id": "b126589f-2ca4-4ec1-839e-44172e2ed647",
   "metadata": {},
   "outputs": [],
   "source": [
    "bino_data"
   ]
  },
  {
   "cell_type": "code",
   "execution_count": null,
   "id": "a85a240c-97b1-4166-a59b-86799645a5d3",
   "metadata": {},
   "outputs": [],
   "source": [
    "df1=pd.DateFrame([],index=('A','B','C'),)"
   ]
  },
  {
   "cell_type": "code",
   "execution_count": 1,
   "id": "47a4e9e2-cee6-4e41-9bf0-84a3ca771619",
   "metadata": {},
   "outputs": [
    {
     "name": "stdout",
     "output_type": "stream",
     "text": [
      "[3, 8, 10, 7]\n"
     ]
    }
   ],
   "source": [
    "l = [3,8,10,7]\n",
    "print(l)"
   ]
  },
  {
   "cell_type": "code",
   "execution_count": 2,
   "id": "ceeb325f-cea5-433e-93ed-7448419662ad",
   "metadata": {},
   "outputs": [
    {
     "name": "stdout",
     "output_type": "stream",
     "text": [
      "3\n",
      "8\n",
      "10\n",
      "7\n"
     ]
    }
   ],
   "source": [
    "for e in l:\n",
    "    print(e)"
   ]
  },
  {
   "cell_type": "code",
   "execution_count": 3,
   "id": "d95b2931-8a84-4394-a1be-3711c1433cca",
   "metadata": {},
   "outputs": [],
   "source": [
    "l.insert(2,5)"
   ]
  },
  {
   "cell_type": "code",
   "execution_count": 4,
   "id": "36105019-e198-4e3b-8115-10b1363d53fd",
   "metadata": {},
   "outputs": [
    {
     "data": {
      "text/plain": [
       "[3, 8, 5, 10, 7]"
      ]
     },
     "execution_count": 4,
     "metadata": {},
     "output_type": "execute_result"
    }
   ],
   "source": [
    "l"
   ]
  },
  {
   "cell_type": "code",
   "execution_count": 10,
   "id": "2220a4de-a98d-4885-8b2e-8d2118ca113b",
   "metadata": {},
   "outputs": [],
   "source": [
    "l.sort()"
   ]
  },
  {
   "cell_type": "code",
   "execution_count": null,
   "id": "65443e4d-0d77-4e08-b44f-3ac1fe669412",
   "metadata": {},
   "outputs": [],
   "source": []
  },
  {
   "cell_type": "code",
   "execution_count": 11,
   "id": "4d7403f4-77cc-4c75-9408-76bf9edd4fde",
   "metadata": {},
   "outputs": [
    {
     "name": "stdout",
     "output_type": "stream",
     "text": [
      "None\n"
     ]
    }
   ],
   "source": [
    "print(l.sort())"
   ]
  },
  {
   "cell_type": "code",
   "execution_count": 12,
   "id": "d2ccc8b5-a4ba-481f-b1d6-19cd5edf4d5c",
   "metadata": {},
   "outputs": [
    {
     "data": {
      "text/plain": [
       "<function list.sort(*, key=None, reverse=False)>"
      ]
     },
     "execution_count": 12,
     "metadata": {},
     "output_type": "execute_result"
    }
   ],
   "source": [
    "l.sort"
   ]
  },
  {
   "cell_type": "code",
   "execution_count": 13,
   "id": "6feeb9df-d447-4b37-90fa-965e7fa5c686",
   "metadata": {},
   "outputs": [
    {
     "data": {
      "text/plain": [
       "[3, 5, 7, 8, 10]"
      ]
     },
     "execution_count": 13,
     "metadata": {},
     "output_type": "execute_result"
    }
   ],
   "source": [
    "l"
   ]
  },
  {
   "cell_type": "code",
   "execution_count": 17,
   "id": "2e68ca90-66ba-4134-94d1-6a46f399a065",
   "metadata": {},
   "outputs": [
    {
     "data": {
      "text/plain": [
       "[10, 8, 7, 5, 3]"
      ]
     },
     "execution_count": 17,
     "metadata": {},
     "output_type": "execute_result"
    }
   ],
   "source": [
    "l.sort(reverse=True)\n",
    "l"
   ]
  },
  {
   "cell_type": "code",
   "execution_count": 18,
   "id": "41078877-7d95-4db5-b275-79d58aee14a0",
   "metadata": {},
   "outputs": [
    {
     "ename": "TypeError",
     "evalue": "'str' object cannot be interpreted as an integer",
     "output_type": "error",
     "traceback": [
      "\u001b[0;31m---------------------------------------------------------------------------\u001b[0m",
      "\u001b[0;31mTypeError\u001b[0m                                 Traceback (most recent call last)",
      "\u001b[0;32m/var/folders/n6/fyxwnr8d7t7bggkm1gp2ld240000gn/T/ipykernel_81670/3413935716.py\u001b[0m in \u001b[0;36m<module>\u001b[0;34m\u001b[0m\n\u001b[0;32m----> 1\u001b[0;31m \u001b[0ml\u001b[0m\u001b[0;34m.\u001b[0m\u001b[0mpop\u001b[0m\u001b[0;34m(\u001b[0m\u001b[0;34m'fish'\u001b[0m\u001b[0;34m)\u001b[0m\u001b[0;34m\u001b[0m\u001b[0;34m\u001b[0m\u001b[0m\n\u001b[0m",
      "\u001b[0;31mTypeError\u001b[0m: 'str' object cannot be interpreted as an integer"
     ]
    }
   ],
   "source": [
    "l.pop('fish')"
   ]
  },
  {
   "cell_type": "code",
   "execution_count": 19,
   "id": "f0d0f52d-c04e-4eb7-9311-f5a2328d7110",
   "metadata": {},
   "outputs": [],
   "source": [
    "d = {'name':'lee','age':'22','gender':'male'}"
   ]
  },
  {
   "cell_type": "code",
   "execution_count": 20,
   "id": "c6b772f2-7374-4516-9f25-3d7c8f67d117",
   "metadata": {},
   "outputs": [
    {
     "data": {
      "text/plain": [
       "{'name': 'lee', 'age': '22', 'gender': 'male'}"
      ]
     },
     "execution_count": 20,
     "metadata": {},
     "output_type": "execute_result"
    }
   ],
   "source": [
    "d"
   ]
  },
  {
   "cell_type": "code",
   "execution_count": 21,
   "id": "09e6fb1d-13e9-4838-ac71-a7385b77b405",
   "metadata": {},
   "outputs": [
    {
     "data": {
      "text/plain": [
       "<function dict.keys>"
      ]
     },
     "execution_count": 21,
     "metadata": {},
     "output_type": "execute_result"
    }
   ],
   "source": [
    "d.keys"
   ]
  },
  {
   "cell_type": "code",
   "execution_count": 22,
   "id": "018d2708-1a28-4ac0-b8b9-49b7e29a8c61",
   "metadata": {},
   "outputs": [
    {
     "name": "stdout",
     "output_type": "stream",
     "text": [
      "<built-in method keys of dict object at 0x7fa4b7f7d900>\n"
     ]
    }
   ],
   "source": [
    "print(d.keys)"
   ]
  },
  {
   "cell_type": "code",
   "execution_count": 23,
   "id": "5754d2d0-239d-4675-8fc8-a1a1bbefd77a",
   "metadata": {},
   "outputs": [
    {
     "name": "stdout",
     "output_type": "stream",
     "text": [
      "dict_keys(['name', 'age', 'gender'])\n"
     ]
    }
   ],
   "source": [
    "print(d.keys())"
   ]
  },
  {
   "cell_type": "code",
   "execution_count": 24,
   "id": "c1f6547c-db22-4406-9f7c-1f210fc96f50",
   "metadata": {},
   "outputs": [
    {
     "name": "stdout",
     "output_type": "stream",
     "text": [
      "dict_values(['lee', '22', 'male'])\n"
     ]
    }
   ],
   "source": [
    "print(d.values())"
   ]
  },
  {
   "cell_type": "code",
   "execution_count": 25,
   "id": "dd600312-3369-408f-9312-31f8ca046e33",
   "metadata": {},
   "outputs": [
    {
     "ename": "NameError",
     "evalue": "name 'name' is not defined",
     "output_type": "error",
     "traceback": [
      "\u001b[0;31m---------------------------------------------------------------------------\u001b[0m",
      "\u001b[0;31mNameError\u001b[0m                                 Traceback (most recent call last)",
      "\u001b[0;32m/var/folders/n6/fyxwnr8d7t7bggkm1gp2ld240000gn/T/ipykernel_81670/2018909148.py\u001b[0m in \u001b[0;36m<module>\u001b[0;34m\u001b[0m\n\u001b[0;32m----> 1\u001b[0;31m \u001b[0mprint\u001b[0m\u001b[0;34m(\u001b[0m\u001b[0md\u001b[0m\u001b[0;34m.\u001b[0m\u001b[0mget\u001b[0m\u001b[0;34m(\u001b[0m\u001b[0mname\u001b[0m\u001b[0;34m)\u001b[0m\u001b[0;34m)\u001b[0m\u001b[0;34m\u001b[0m\u001b[0;34m\u001b[0m\u001b[0m\n\u001b[0m",
      "\u001b[0;31mNameError\u001b[0m: name 'name' is not defined"
     ]
    }
   ],
   "source": [
    "print(d.get(name))"
   ]
  },
  {
   "cell_type": "code",
   "execution_count": 26,
   "id": "7487b55b-590e-436b-8290-9d24e0d16f92",
   "metadata": {},
   "outputs": [
    {
     "data": {
      "text/plain": [
       "'lee'"
      ]
     },
     "execution_count": 26,
     "metadata": {},
     "output_type": "execute_result"
    }
   ],
   "source": [
    "d.get('name')"
   ]
  },
  {
   "cell_type": "code",
   "execution_count": 27,
   "id": "3dbe4ec6-7a04-4128-9805-f461270874ca",
   "metadata": {},
   "outputs": [
    {
     "name": "stdout",
     "output_type": "stream",
     "text": [
      "[0, 1, 1]\n"
     ]
    }
   ],
   "source": [
    "def fib(num):\n",
    "    result = [0,1]\n",
    "    fb = result[-1]+result[-2]\n",
    "    result.append(fb)\n",
    "    return result\n",
    "\n",
    "print(fib(2))"
   ]
  },
  {
   "cell_type": "code",
   "execution_count": null,
   "id": "f4588a31-5e35-44b2-82a2-6e35fdb9b4fd",
   "metadata": {},
   "outputs": [],
   "source": []
  },
  {
   "cell_type": "code",
   "execution_count": null,
   "id": "fea43aee-8d6c-4fff-b814-1cc52ba66416",
   "metadata": {},
   "outputs": [],
   "source": []
  },
  {
   "cell_type": "code",
   "execution_count": null,
   "id": "adffa897-cb19-4603-9bb7-566e8a3c86ec",
   "metadata": {},
   "outputs": [],
   "source": []
  },
  {
   "cell_type": "code",
   "execution_count": null,
   "id": "c6d0f222-6337-4eb8-bab3-7f03ddf1bbbc",
   "metadata": {},
   "outputs": [],
   "source": []
  },
  {
   "cell_type": "code",
   "execution_count": 9,
   "id": "341de811-a0a4-4291-8f54-58f87bb6ecfc",
   "metadata": {},
   "outputs": [
    {
     "ename": "TypeError",
     "evalue": "'NoneType' object is not iterable",
     "output_type": "error",
     "traceback": [
      "\u001b[0;31m---------------------------------------------------------------------------\u001b[0m",
      "\u001b[0;31mTypeError\u001b[0m                                 Traceback (most recent call last)",
      "\u001b[0;32m/var/folders/n6/fyxwnr8d7t7bggkm1gp2ld240000gn/T/ipykernel_81670/3324574721.py\u001b[0m in \u001b[0;36m<module>\u001b[0;34m\u001b[0m\n\u001b[0;32m----> 1\u001b[0;31m \u001b[0;32mfor\u001b[0m \u001b[0mi\u001b[0m \u001b[0;32min\u001b[0m \u001b[0ml\u001b[0m\u001b[0;34m.\u001b[0m\u001b[0msort\u001b[0m\u001b[0;34m(\u001b[0m\u001b[0;34m)\u001b[0m\u001b[0;34m:\u001b[0m\u001b[0;34m\u001b[0m\u001b[0;34m\u001b[0m\u001b[0m\n\u001b[0m\u001b[1;32m      2\u001b[0m     \u001b[0mprin\u001b[0m\u001b[0;34m(\u001b[0m\u001b[0mi\u001b[0m\u001b[0;34m)\u001b[0m\u001b[0;34m\u001b[0m\u001b[0;34m\u001b[0m\u001b[0m\n",
      "\u001b[0;31mTypeError\u001b[0m: 'NoneType' object is not iterable"
     ]
    }
   ],
   "source": []
  },
  {
   "cell_type": "code",
   "execution_count": null,
   "id": "9c77a09a-9115-4dc5-aecf-1e121e6aea50",
   "metadata": {},
   "outputs": [],
   "source": []
  },
  {
   "cell_type": "code",
   "execution_count": null,
   "id": "3821f53e-3307-4a74-ba64-ca66c384d440",
   "metadata": {},
   "outputs": [],
   "source": []
  },
  {
   "cell_type": "code",
   "execution_count": null,
   "id": "5124a7fd-b933-4f3e-9259-29e91282bc10",
   "metadata": {},
   "outputs": [],
   "source": []
  },
  {
   "cell_type": "code",
   "execution_count": null,
   "id": "87883ecd-0f01-4b59-a175-9baf92cbb068",
   "metadata": {},
   "outputs": [],
   "source": []
  },
  {
   "cell_type": "code",
   "execution_count": null,
   "id": "5eecd317-6d21-4f6c-bff4-d5ef1cff15ad",
   "metadata": {},
   "outputs": [],
   "source": []
  },
  {
   "cell_type": "code",
   "execution_count": null,
   "id": "6e3dc337-c1b1-46d9-9ff6-992ee845df53",
   "metadata": {},
   "outputs": [],
   "source": []
  },
  {
   "cell_type": "code",
   "execution_count": null,
   "id": "c07519b8-bff4-41f2-830d-736d86ac6514",
   "metadata": {},
   "outputs": [],
   "source": []
  }
 ],
 "metadata": {
  "kernelspec": {
   "display_name": "Python 3 (ipykernel)",
   "language": "python",
   "name": "python3"
  },
  "language_info": {
   "codemirror_mode": {
    "name": "ipython",
    "version": 3
   },
   "file_extension": ".py",
   "mimetype": "text/x-python",
   "name": "python",
   "nbconvert_exporter": "python",
   "pygments_lexer": "ipython3",
   "version": "3.9.7"
  }
 },
 "nbformat": 4,
 "nbformat_minor": 5
}
