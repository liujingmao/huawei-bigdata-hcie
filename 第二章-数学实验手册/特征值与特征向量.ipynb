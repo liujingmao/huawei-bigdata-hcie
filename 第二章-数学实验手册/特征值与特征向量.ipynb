{
 "cells": [
  {
   "cell_type": "raw",
   "id": "910df65d-5a61-4191-b4e5-e33cb7408c5e",
   "metadata": {},
   "source": [
    "求矩阵的特征值与特征向量并实现可视化"
   ]
  },
  {
   "cell_type": "code",
   "execution_count": 1,
   "id": "449f018c-03c1-4dbc-8068-553486eb4683",
   "metadata": {},
   "outputs": [],
   "source": [
    "from scipy.linalg import eig\n",
    "import numpy as np\n",
    "import matplotlib.pyplot as plt"
   ]
  },
  {
   "cell_type": "code",
   "execution_count": 7,
   "id": "d97a046e-cd7a-419e-97a0-60ce0f0272fd",
   "metadata": {},
   "outputs": [],
   "source": [
    "A = [[1,2],[2,1]]\n",
    "evals, evecs = eig(A) #求A的特征值（evals）和特征向量(evecs)\n",
    "evecs = evecs[:, 0], evecs[:, 1]"
   ]
  },
  {
   "cell_type": "code",
   "execution_count": 8,
   "id": "0073a21a-eb06-44a2-aa83-8294110d503e",
   "metadata": {},
   "outputs": [
    {
     "data": {
      "image/png": "[encoded data removed]",
      "text/plain": [
       "<Figure size 432x288 with 1 Axes>"
      ]
     },
     "metadata": {
      "needs_background": "light"
     },
     "output_type": "display_data"
    }
   ],
   "source": [
    "fig,ax = plt.subplots()\n",
    "for spine in ['left','bottom']:\n",
    "    ax.spines[spine].set_position('zero')"
   ]
  },
  {
   "cell_type": "code",
   "execution_count": null,
   "id": "57d2e2f9-51fa-45a3-aa99-66ea49370f8b",
   "metadata": {},
   "outputs": [],
   "source": []
  },
  {
   "cell_type": "code",
   "execution_count": 5,
   "id": "43f2a784-57ce-407b-95fa-183d967e38af",
   "metadata": {},
   "outputs": [],
   "source": [
    "ax.grid(alpha=0.4)"
   ]
  },
  {
   "cell_type": "code",
   "execution_count": 11,
   "id": "06b5af34-0bc9-4d15-94ea-14664fbb7c36",
   "metadata": {},
   "outputs": [
    {
     "data": {
      "text/plain": [
       "[(-3.0, 3.0), (-3.0, 3.0)]"
      ]
     },
     "execution_count": 11,
     "metadata": {},
     "output_type": "execute_result"
    }
   ],
   "source": [
    "xmin, xmax = -3, 3\n",
    "ymin, ymax = -3, 3\n",
    "ax.set(xlim=(xmin, xmax), ylim=(ymin, ymax))"
   ]
  },
  {
   "cell_type": "code",
   "execution_count": 12,
   "id": "cc34aabb-9599-4d7c-86ab-52d7560d2250",
   "metadata": {},
   "outputs": [
    {
     "name": "stderr",
     "output_type": "stream",
     "text": [
      "/var/folders/n6/fyxwnr8d7t7bggkm1gp2ld240000gn/T/ipykernel_29685/2949519001.py:2: MatplotlibDeprecationWarning: The 's' parameter of annotate() has been renamed 'text' since Matplotlib 3.3; support for the old name will be dropped two minor releases later.\n",
      "  ax.annotate(s=\"\", xy=v, xytext=(0, 0),\n"
     ]
    }
   ],
   "source": [
    "for v in evecs:\n",
    "    ax.annotate(s=\"\", xy=v, xytext=(0, 0),\n",
    "                arrowprops=dict(facecolor='blue',\n",
    "                shrink=0,\n",
    "                alpha=0.6,\n",
    "                width=0.5))"
   ]
  },
  {
   "cell_type": "code",
   "execution_count": null,
   "id": "e3f3ab35-c5da-4090-bc02-77eef1302b6b",
   "metadata": {},
   "outputs": [],
   "source": []
  },
  {
   "cell_type": "code",
   "execution_count": 13,
   "id": "7fdaf8e3-b527-4974-8372-0635ae7daf82",
   "metadata": {},
   "outputs": [],
   "source": [
    "x = np.linspace(xmin, xmax, 3)#在指定的间隔内返回均匀间隔的数字\n",
    "for v in evecs:\n",
    "    a = v[1] / v[0] #沿特征向量方向的单位向量\n",
    "    ax.plot(x, a * x, 'r-', lw=0.4)# 参数 lw 表示图线的粗细\n",
    "plt.show()  "
   ]
  },
  {
   "cell_type": "code",
   "execution_count": null,
   "id": "888c85f8-f33f-4930-8613-c944c4ba6f41",
   "metadata": {},
   "outputs": [],
   "source": []
  },
  {
   "cell_type": "code",
   "execution_count": null,
   "id": "91180166-12ff-4a3c-89d4-e8dbd4442f2b",
   "metadata": {},
   "outputs": [],
   "source": []
  }
 ],
 "metadata": {
  "kernelspec": {
   "display_name": "Python 3 (ipykernel)",
   "language": "python",
   "name": "python3"
  },
  "language_info": {
   "codemirror_mode": {
    "name": "ipython",
    "version": 3
   },
   "file_extension": ".py",
   "mimetype": "text/x-python",
   "name": "python",
   "nbconvert_exporter": "python",
   "pygments_lexer": "ipython3",
   "version": "3.7.4"
  }
 },
 "nbformat": 4,
 "nbformat_minor": 5
}
