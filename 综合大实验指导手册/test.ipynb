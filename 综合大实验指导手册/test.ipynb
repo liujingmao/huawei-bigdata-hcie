{
 "cells": [
  {
   "cell_type": "code",
   "execution_count": null,
   "id": "a29846fb-b917-43d1-8363-40ccb4edb0a9",
   "metadata": {},
   "outputs": [],
   "source": [
    "import numpy as np \n",
    "import pandas as pd"
   ]
  },
  {
   "cell_type": "code",
   "execution_count": null,
   "id": "c43b97e7-11ef-4df6-8d04-fef216640303",
   "metadata": {},
   "outputs": [],
   "source": [
    "df = pd.read_csv('./dataset-credit-default.csv')"
   ]
  },
  {
   "cell_type": "code",
   "execution_count": null,
   "id": "d2cce315-50f7-422c-b106-ceac96eb9927",
   "metadata": {},
   "outputs": [],
   "source": [
    "df.head()"
   ]
  },
  {
   "cell_type": "code",
   "execution_count": null,
   "id": "16450f62-9b1f-48db-b7e0-fa940f7e5bff",
   "metadata": {},
   "outputs": [],
   "source": [
    "df.columns"
   ]
  },
  {
   "cell_type": "code",
   "execution_count": null,
   "id": "2ff4ba24-05e4-4d6e-ba1f-b1e063026430",
   "metadata": {},
   "outputs": [],
   "source": [
    "import seaborn as sns"
   ]
  },
  {
   "cell_type": "code",
   "execution_count": null,
   "id": "a02ba321-0f70-450c-ae63-1950b15eebc2",
   "metadata": {},
   "outputs": [],
   "source": [
    "sns.countplot(df['Target'])"
   ]
  },
  {
   "cell_type": "code",
   "execution_count": null,
   "id": "bbabe256-93ab-4715-b1b3-605c1752285f",
   "metadata": {},
   "outputs": [],
   "source": [
    "df_corr = df.corr(method='spearman')"
   ]
  },
  {
   "cell_type": "code",
   "execution_count": null,
   "id": "57e7cdbe-d187-4e7e-a464-d7fa3cc069d4",
   "metadata": {},
   "outputs": [],
   "source": [
    "sns.heatmap(df_corr)"
   ]
  },
  {
   "cell_type": "code",
   "execution_count": null,
   "id": "b248df20-c9ec-4562-a922-98a8a36a8c6f",
   "metadata": {},
   "outputs": [],
   "source": []
  },
  {
   "cell_type": "code",
   "execution_count": null,
   "id": "773d042f-16df-402e-a442-bbdc759d5197",
   "metadata": {},
   "outputs": [],
   "source": [
    "# 删除相关系数超过0.8的行属性"
   ]
  },
  {
   "cell_type": "code",
   "execution_count": null,
   "id": "319894d9-c5fc-44f0-80cd-38b36f8d5543",
   "metadata": {},
   "outputs": [],
   "source": [
    "cols_pair_to_drop = []\n",
    "for index in df_corr.index:\n",
    "    for col in df_corr.columns:\n",
    "        if df_corr.loc[index,col] >=0.8 and index!=col and (index,col) not in cols_pair_to_drop:\n",
    "            cols_pair_to_drop.append((index,col))\n",
    "col_to_drop = np.unique([col[1] for col in cols_pair_to_drop])"
   ]
  },
  {
   "cell_type": "code",
   "execution_count": null,
   "id": "f444b501-a047-468f-9ee6-9b2fc565372b",
   "metadata": {},
   "outputs": [],
   "source": [
    "df.drop(col_to_drop,axis=1,inplace=True)"
   ]
  },
  {
   "cell_type": "code",
   "execution_count": null,
   "id": "21fb48e7-a7c1-438f-b4ee-7b1e668fbd16",
   "metadata": {},
   "outputs": [],
   "source": [
    "df.head()"
   ]
  },
  {
   "cell_type": "code",
   "execution_count": null,
   "id": "9bd77336-46ca-48a3-a62f-42236635db2c",
   "metadata": {},
   "outputs": [],
   "source": [
    "#del df['Cust_No']"
   ]
  },
  {
   "cell_type": "code",
   "execution_count": null,
   "id": "9d59626a-07c2-4c40-9baa-9020bef36dc2",
   "metadata": {},
   "outputs": [],
   "source": []
  },
  {
   "cell_type": "code",
   "execution_count": null,
   "id": "4e703f5e-4d6a-4e5d-ab8a-e88991cce971",
   "metadata": {},
   "outputs": [],
   "source": [
    "from sklearn.impute import SimpleImputer\n",
    "df_model = SimpleImputer(np.nan,strategy='mean')\n",
    "df_fill = df_model.fit_transform(df[['House_State','Year_Income','Couple_Year_Income','L12_Month_Pay_Amount']])\n",
    "df_mean = pd.DataFrame(data=df_fill,columns=['House_State','Year_Income','Couple_Year_Income','L12_Month_Pay_Amount'])"
   ]
  },
  {
   "cell_type": "code",
   "execution_count": null,
   "id": "6a8ea707-992e-4e53-a1e0-09897291a5a1",
   "metadata": {},
   "outputs": [],
   "source": [
    "df[['House_State','Year_Income','Couple_Year_Income','L12_Month_Pay_Amount']] = df_mean"
   ]
  },
  {
   "cell_type": "code",
   "execution_count": null,
   "id": "cf33ff46-fc03-449d-8254-9a9f6e1aa1e8",
   "metadata": {},
   "outputs": [],
   "source": [
    "df[['House_State','Year_Income','Couple_Year_Income','L12_Month_Pay_Amount']].isnull().sum()"
   ]
  },
  {
   "cell_type": "code",
   "execution_count": null,
   "id": "e19a8cd3-b1f7-45e5-91ac-50fedf705ba7",
   "metadata": {},
   "outputs": [],
   "source": [
    "re = df['Gender'].mode()## 求某列的众数"
   ]
  },
  {
   "cell_type": "code",
   "execution_count": null,
   "id": "8d38b957-679b-4a83-8523-707482e48597",
   "metadata": {},
   "outputs": [],
   "source": [
    "re"
   ]
  },
  {
   "cell_type": "code",
   "execution_count": null,
   "id": "e50db6aa-c55e-4501-9500-6c0820eebf5e",
   "metadata": {},
   "outputs": [],
   "source": []
  },
  {
   "cell_type": "code",
   "execution_count": null,
   "id": "adacca60-f70b-475e-927a-4acdaf58cd49",
   "metadata": {},
   "outputs": [],
   "source": [
    "df['Gender'] = df['Gender'].replace(np.nan,df['Gender'].mode()[0])"
   ]
  },
  {
   "cell_type": "code",
   "execution_count": null,
   "id": "42c2308f-0a47-4dd0-8a39-beb2b357dc04",
   "metadata": {},
   "outputs": [],
   "source": [
    "df['Gender'].isnull().sum()"
   ]
  },
  {
   "cell_type": "code",
   "execution_count": null,
   "id": "0341769c-013d-42db-9418-479d5e31abb0",
   "metadata": {},
   "outputs": [],
   "source": [
    "## 用众数替换Unit_King列的异常值\n",
    "df['Unit_Kind'].value_counts()"
   ]
  },
  {
   "cell_type": "code",
   "execution_count": null,
   "id": "c94dde5b-97c0-4f90-9d08-45a4ebd25036",
   "metadata": {},
   "outputs": [],
   "source": [
    "df['Unit_Kind'] = df['Unit_Kind'].replace('ae',df['Unit_Kind'].mode()[0])\n",
    "df['Unit_Kind'] = df['Unit_Kind'].replace('Da',df['Unit_Kind'].mode()[0])\n",
    "df['Unit_Kind'] = df['Unit_Kind'].replace('Be',df['Unit_Kind'].mode()[0])"
   ]
  },
  {
   "cell_type": "code",
   "execution_count": null,
   "id": "1ca31f11-23f2-4635-bd77-e4833828ab5b",
   "metadata": {},
   "outputs": [],
   "source": [
    "model_mode = SimpleImputer(np.nan,strategy='most_frequent')\n",
    "df_fill_mode = model_mode.fit_transform(df)\n",
    "df_mode = pd.DataFrame(data=df_fill_mode,columns=df.columns)"
   ]
  },
  {
   "cell_type": "code",
   "execution_count": null,
   "id": "2e1fe9c4-fbb0-4ba3-a6ab-f9e0e37c8fde",
   "metadata": {},
   "outputs": [],
   "source": [
    "df_mode.isnull().sum()"
   ]
  },
  {
   "cell_type": "code",
   "execution_count": null,
   "id": "9d9a4d12-73ef-41f8-9ec7-31c74e427776",
   "metadata": {},
   "outputs": [],
   "source": [
    "## host coding\n",
    "del df_mode['Cust_No']\n",
    "df_oh = pd.get_dummies(df_mode)\n"
   ]
  },
  {
   "cell_type": "code",
   "execution_count": null,
   "id": "c44a5d57-f162-44a3-86fb-2224ff129d66",
   "metadata": {},
   "outputs": [],
   "source": [
    "\n",
    "x = df_oh\n",
    "y = df_mode['Target']\n",
    "y = y.astype(np.int)"
   ]
  },
  {
   "cell_type": "code",
   "execution_count": null,
   "id": "3c371ef2-231a-4df3-83ad-31f6c585f869",
   "metadata": {},
   "outputs": [],
   "source": [
    "from sklearn.model_selection import train_test_split\n",
    "\n",
    "x_train,x_test,y_train,y_test = train_test_split(x,y,test_size=0.3)"
   ]
  },
  {
   "cell_type": "code",
   "execution_count": null,
   "id": "08c27a36-6490-4f52-bd79-26cbb3f99fba",
   "metadata": {},
   "outputs": [],
   "source": [
    "from sklearn.ensemble import RandomForestClassifier\n",
    "\n",
    "model_rf = RandomForestClassifier(n_estimators=100,max_depth=30)\n",
    "\n",
    "model_rf.fit(x_train,y_train)\n"
   ]
  },
  {
   "cell_type": "code",
   "execution_count": null,
   "id": "5f2b893a-b725-49b9-9508-d7e4fe6e9fc1",
   "metadata": {},
   "outputs": [],
   "source": [
    "from sklearn.metrics import accuracy_score\n",
    "\n",
    "y_pre = model_rf.predict(x_test)\n",
    "\n",
    "score = accuracy_score(y_test,y_pre)\n"
   ]
  },
  {
   "cell_type": "code",
   "execution_count": null,
   "id": "2f276a83-3143-4a15-aece-7a76921a6f66",
   "metadata": {},
   "outputs": [],
   "source": [
    "score"
   ]
  },
  {
   "cell_type": "code",
   "execution_count": null,
   "id": "d55dfe2e-9a6c-4ca3-81dc-1dae37541b08",
   "metadata": {},
   "outputs": [],
   "source": [
    "pip install imblearn"
   ]
  },
  {
   "cell_type": "code",
   "execution_count": 1,
   "id": "7ead10e7-5011-40de-91e2-8f279e561dfb",
   "metadata": {},
   "outputs": [
    {
     "name": "stdout",
     "output_type": "stream",
     "text": [
      "4\n"
     ]
    }
   ],
   "source": [
    "print(2**2)"
   ]
  },
  {
   "cell_type": "code",
   "execution_count": 2,
   "id": "2b481f76-2848-4a20-be7c-04a70b34356f",
   "metadata": {},
   "outputs": [
    {
     "name": "stdout",
     "output_type": "stream",
     "text": [
      "9\n"
     ]
    }
   ],
   "source": [
    "print(3**2)"
   ]
  },
  {
   "cell_type": "code",
   "execution_count": null,
   "id": "03b351c6-109a-42d2-98a9-b3f75b89d99b",
   "metadata": {},
   "outputs": [],
   "source": []
  },
  {
   "cell_type": "code",
   "execution_count": null,
   "id": "6e1e43c5-4b09-4b41-9661-e77c6cb5e4ab",
   "metadata": {},
   "outputs": [],
   "source": []
  },
  {
   "cell_type": "code",
   "execution_count": null,
   "id": "6a0f4374-5907-474a-a507-3c16167ee843",
   "metadata": {},
   "outputs": [],
   "source": []
  },
  {
   "cell_type": "code",
   "execution_count": null,
   "id": "f5f59f9c-f65c-46ef-9570-47385701e101",
   "metadata": {},
   "outputs": [],
   "source": []
  },
  {
   "cell_type": "code",
   "execution_count": null,
   "id": "604e43a9-007f-4f7f-8543-1ba6ff80bf81",
   "metadata": {},
   "outputs": [],
   "source": []
  }
 ],
 "metadata": {
  "kernelspec": {
   "display_name": "python37",
   "language": "python",
   "name": "python37"
  },
  "language_info": {
   "codemirror_mode": {
    "name": "ipython",
    "version": 3
   },
   "file_extension": ".py",
   "mimetype": "text/x-python",
   "name": "python",
   "nbconvert_exporter": "python",
   "pygments_lexer": "ipython3",
   "version": "3.9.7"
  }
 },
 "nbformat": 4,
 "nbformat_minor": 5
}
