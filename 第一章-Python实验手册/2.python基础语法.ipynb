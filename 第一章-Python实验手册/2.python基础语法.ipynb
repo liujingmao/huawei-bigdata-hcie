{
 "cells": [
  {
   "cell_type": "code",
   "execution_count": 2,
   "id": "e8ffeea0-a17f-4b4f-bbea-dd4e30204003",
   "metadata": {},
   "outputs": [],
   "source": [
    "import keyword as kw\n",
    "a = kw.kwlist"
   ]
  },
  {
   "cell_type": "code",
   "execution_count": 4,
   "id": "e83e220c-4dc9-4899-a888-b1cca2e9754a",
   "metadata": {},
   "outputs": [
    {
     "name": "stdout",
     "output_type": "stream",
     "text": [
      "You Are Right\n"
     ]
    }
   ],
   "source": [
    "if True:\n",
    "    print(\"You Are Right\")\n",
    "else:\n",
    "    print(\"Error\")"
   ]
  },
  {
   "cell_type": "raw",
   "id": "8f3b8b1d-cbfa-47a9-969f-612b1018c7cf",
   "metadata": {},
   "source": [
    "数据类型\n",
    "int \n",
    "bool\n",
    "float\n",
    "complex"
   ]
  },
  {
   "cell_type": "code",
   "execution_count": 5,
   "id": "ed3ad9a0-8b16-4309-9e33-d09c0a7c9cac",
   "metadata": {},
   "outputs": [
    {
     "name": "stdout",
     "output_type": "stream",
     "text": [
      "字符串\n"
     ]
    }
   ],
   "source": [
    "word = '字符串'\n",
    "sentence = '这是一个句子.'\n",
    "paragraph = \"\"\" 这是一个\n",
    "可以的 \"\"\"\n",
    "print(word)"
   ]
  },
  {
   "cell_type": "code",
   "execution_count": 6,
   "id": "cd2641e2-ab99-4b78-97b4-bb3b95adf108",
   "metadata": {},
   "outputs": [
    {
     "name": "stdout",
     "output_type": "stream",
     "text": [
      " 这是一个\n",
      "可以的 \n"
     ]
    }
   ],
   "source": [
    "print(paragraph)"
   ]
  },
  {
   "cell_type": "markdown",
   "id": "cb88ad07-f3e0-46b1-9b18-77583eb3a052",
   "metadata": {},
   "source": [
    "#### str练习"
   ]
  },
  {
   "cell_type": "code",
   "execution_count": 7,
   "id": "0bdf9d71-9d54-4c56-a3d3-9bac348aaea1",
   "metadata": {},
   "outputs": [],
   "source": [
    "str = \"123456789\""
   ]
  },
  {
   "cell_type": "code",
   "execution_count": 8,
   "id": "eaed84c6-e44a-47b6-b803-9b0a7637b98d",
   "metadata": {},
   "outputs": [
    {
     "name": "stdout",
     "output_type": "stream",
     "text": [
      "123456789\n"
     ]
    }
   ],
   "source": [
    "# print str \n",
    "print(str)"
   ]
  },
  {
   "cell_type": "code",
   "execution_count": 10,
   "id": "a6a44273-c082-43fb-8f20-85970084ec5f",
   "metadata": {},
   "outputs": [
    {
     "name": "stdout",
     "output_type": "stream",
     "text": [
      "12345678\n"
     ]
    }
   ],
   "source": [
    "# 输出第一个到倒数第二个的所有字符\n",
    "print(str[0:-1])"
   ]
  },
  {
   "cell_type": "code",
   "execution_count": 11,
   "id": "9a0337fa-d562-4ccf-9720-d0cdbf716af4",
   "metadata": {},
   "outputs": [
    {
     "name": "stdout",
     "output_type": "stream",
     "text": [
      "1\n"
     ]
    }
   ],
   "source": [
    "print(str[0])"
   ]
  },
  {
   "cell_type": "code",
   "execution_count": 12,
   "id": "12775852-3473-4d96-baaf-a2c8fdefbd02",
   "metadata": {},
   "outputs": [
    {
     "name": "stdout",
     "output_type": "stream",
     "text": [
      "345\n"
     ]
    }
   ],
   "source": [
    "print(str[2:5])  # 输出第三个开始到第6个字符,不包含第6个字符"
   ]
  },
  {
   "cell_type": "code",
   "execution_count": 13,
   "id": "b09e3171-195b-46b7-8776-c351dc6b078b",
   "metadata": {},
   "outputs": [
    {
     "name": "stdout",
     "output_type": "stream",
     "text": [
      "3456789\n"
     ]
    }
   ],
   "source": [
    "print(str[2:])"
   ]
  },
  {
   "cell_type": "code",
   "execution_count": 15,
   "id": "c036a27d-db18-4a04-b812-c92a28861696",
   "metadata": {},
   "outputs": [
    {
     "name": "stdout",
     "output_type": "stream",
     "text": [
      "123456789123456789\n"
     ]
    }
   ],
   "source": [
    "#将一个字符串连接输出两次\n",
    "print(str*2)"
   ]
  },
  {
   "cell_type": "code",
   "execution_count": 16,
   "id": "506d6b3c-95de-438a-b477-c84767f89541",
   "metadata": {},
   "outputs": [
    {
     "name": "stdout",
     "output_type": "stream",
     "text": [
      "123456789123456789123456789\n"
     ]
    }
   ],
   "source": [
    "#将一个字符串连续输出三次\n",
    "print(str*3)"
   ]
  },
  {
   "cell_type": "code",
   "execution_count": 17,
   "id": "1280b112-6bef-4b26-886c-fe8de4727d70",
   "metadata": {},
   "outputs": [
    {
     "name": "stdout",
     "output_type": "stream",
     "text": [
      "123456789你好\n"
     ]
    }
   ],
   "source": [
    "# 用 “+”连接字符串\n",
    "print(str+'你好')"
   ]
  },
  {
   "cell_type": "code",
   "execution_count": 18,
   "id": "af118e2a-e1e3-4228-85aa-95098d2f4221",
   "metadata": {},
   "outputs": [
    {
     "name": "stdout",
     "output_type": "stream",
     "text": [
      "123456789heehee\n"
     ]
    }
   ],
   "source": [
    "print(str+'hee'*2)"
   ]
  },
  {
   "cell_type": "code",
   "execution_count": 19,
   "id": "a257abf8-2f67-4a30-8e5d-63dacf519e58",
   "metadata": {},
   "outputs": [
    {
     "name": "stdout",
     "output_type": "stream",
     "text": [
      "hell\n",
      " thie\n"
     ]
    }
   ],
   "source": [
    "print('hell\\n thie')  # 加\"\\n\"表示换行,"
   ]
  },
  {
   "cell_type": "code",
   "execution_count": 20,
   "id": "083938ff-1597-431a-ac4c-c0aceca9f57f",
   "metadata": {},
   "outputs": [
    {
     "name": "stdout",
     "output_type": "stream",
     "text": [
      "this\ttime\n"
     ]
    }
   ],
   "source": [
    "print('this\\ttime')  # \\t 制表符"
   ]
  },
  {
   "cell_type": "code",
   "execution_count": 21,
   "id": "b4bf5490-4197-4956-888a-5f251fecf737",
   "metadata": {},
   "outputs": [
    {
     "name": "stdout",
     "output_type": "stream",
     "text": [
      "rhtitme\\tthefeaeaf\n"
     ]
    }
   ],
   "source": [
    "# 如果需要原样输出\n",
    "print(r'rhtitme\\tthefeaeaf')"
   ]
  },
  {
   "cell_type": "code",
   "execution_count": 22,
   "id": "ce2cbfb3-0678-4f38-a0b0-7e4481dd0d9c",
   "metadata": {},
   "outputs": [
    {
     "name": "stdout",
     "output_type": "stream",
     "text": [
      "this time \\n time has gone\n"
     ]
    }
   ],
   "source": [
    "print(r\"this time \\n time has gone\")"
   ]
  },
  {
   "cell_type": "code",
   "execution_count": null,
   "id": "c53260d8-6951-4159-a614-d03224b4d82f",
   "metadata": {},
   "outputs": [],
   "source": []
  },
  {
   "cell_type": "code",
   "execution_count": null,
   "id": "f3930cb6-5735-4276-a5af-71dfcdefda8d",
   "metadata": {},
   "outputs": [],
   "source": []
  },
  {
   "cell_type": "code",
   "execution_count": null,
   "id": "1d2cae3c-962d-4b2c-b689-38130c0ae6c3",
   "metadata": {},
   "outputs": [],
   "source": []
  },
  {
   "cell_type": "code",
   "execution_count": null,
   "id": "383e2361-4d66-44e1-a2e9-c5bd7ce5b9d4",
   "metadata": {},
   "outputs": [],
   "source": []
  }
 ],
 "metadata": {
  "kernelspec": {
   "display_name": "Python 3 (ipykernel)",
   "language": "python",
   "name": "python3"
  },
  "language_info": {
   "codemirror_mode": {
    "name": "ipython",
    "version": 3
   },
   "file_extension": ".py",
   "mimetype": "text/x-python",
   "name": "python",
   "nbconvert_exporter": "python",
   "pygments_lexer": "ipython3",
   "version": "3.7.4"
  }
 },
 "nbformat": 4,
 "nbformat_minor": 5
}
