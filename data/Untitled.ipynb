{
 "cells": [
  {
   "cell_type": "code",
   "execution_count": 9,
   "id": "c52b63a6-6e39-46c2-8470-951037b48378",
   "metadata": {},
   "outputs": [
    {
     "name": "stdout",
     "output_type": "stream",
     "text": [
      "1.0\n"
     ]
    },
    {
     "data": {
      "text/plain": [
       "0.9777777777777777"
      ]
     },
     "execution_count": 9,
     "metadata": {},
     "output_type": "execute_result"
    }
   ],
   "source": [
    "from sklearn.pipeline import Pipeline    # 导入sklearn中的Pipeline\n",
    "from sklearn.preprocessing import StandardScaler   # 将数据均值移除，变为均值为0，方差为1的数据\n",
    "from sklearn.decomposition import PCA  \n",
    "from sklearn.datasets import load_iris\n",
    "from sklearn.model_selection import train_test_split\n",
    "from sklearn.ensemble import RandomForestClassifier\n",
    "data = load_iris()\n",
    "y = data.target\n",
    "x = data.data\n",
    "train_x, test_x, train_y, test_y = train_test_split(x,y, test_size=0.30, stratify = y)\n",
    "pipeline = Pipeline([\n",
    "    ('scaler', StandardScaler()),\n",
    "    ('pca', PCA()),\n",
    "    ('randomforestclassifier', RandomForestClassifier())\n",
    "])\n",
    "pipeline.fit(data.data,data.target)\n",
    "print(pipeline.score(test_x,test_y))\n",
    "\n",
    "# 输出\n",
    "0.9777777777777777\n"
   ]
  },
  {
   "cell_type": "code",
   "execution_count": 10,
   "id": "37b0e2f1-8700-4a29-b420-9db1bf7ee42d",
   "metadata": {},
   "outputs": [
    {
     "name": "stdout",
     "output_type": "stream",
     "text": [
      "1.0\n"
     ]
    }
   ],
   "source": [
    "from sklearn.pipeline import Pipeline    # 导入sklearn中的Pipeline\n",
    "from sklearn.preprocessing import StandardScaler   # 将数据均值移除，变为均值为0，方差为1的数据\n",
    "from sklearn.decomposition import PCA  \n",
    "from sklearn.datasets import load_iris\n",
    "from sklearn.model_selection import train_test_split\n",
    "from sklearn.ensemble import RandomForestClassifier\n",
    "import xgboost as xgb\n",
    "model = xgb.XGBClassifier()\n",
    "\n",
    "data = load_iris()\n",
    "y = data.target\n",
    "x = data.data\n",
    "train_x, test_x, train_y, test_y = train_test_split(x,y, test_size=0.30, stratify = y)\n",
    "pipeline = Pipeline([\n",
    "    ('scaler', StandardScaler()),\n",
    "    ('pca', PCA()),\n",
    "    ('model', model)\n",
    "])\n",
    "pipeline.fit(data.data,data.target)\n",
    "print(pipeline.score(test_x,test_y))\n",
    "\n",
    "\n"
   ]
  },
  {
   "cell_type": "code",
   "execution_count": null,
   "id": "f0ce929a-3797-4e79-ab43-88ba31bb874e",
   "metadata": {},
   "outputs": [],
   "source": []
  }
 ],
 "metadata": {
  "kernelspec": {
   "display_name": "Python 3 (ipykernel)",
   "language": "python",
   "name": "python3"
  },
  "language_info": {
   "codemirror_mode": {
    "name": "ipython",
    "version": 3
   },
   "file_extension": ".py",
   "mimetype": "text/x-python",
   "name": "python",
   "nbconvert_exporter": "python",
   "pygments_lexer": "ipython3",
   "version": "3.9.7"
  }
 },
 "nbformat": 4,
 "nbformat_minor": 5
}
