{
 "cells": [
  {
   "cell_type": "raw",
   "metadata": {},
   "source": [
    "#1.请导入数据集文件datamining01.csv,并查看(除表头外)前5行数据\n",
    "\n",
    "#2.请统计出每列数据重的最大值、最小值、中位数、平均数以及四分位数\n",
    "\n",
    "#1.请计算出每列中缺失值所占百分比，并输出结果，输出结果字段包括：字段名称、缺失值数量、缺失值占比\n",
    "\n",
    "#2.将缺失值占比超过70%的列删除，并选取适当方法对缺失值占比低于70%的列的缺失值进行填充，并将处理后的数据生成新的数据集文件data01;\n",
    "\n",
    "\n",
    "\n",
    "\n",
    "使用数据data_cluster.csv\n",
    "\n",
    "#1、导入数据，统计行、列、时间日期\n",
    "\n",
    "#2、查看数据重的最大值，最小值，中位数，平均数以及四分位数\n",
    "\n",
    "#3、选择日期为20200319的数据判读空值处理并生成新数据集data_new\n",
    "\n",
    "#4、按用户ID流量生成数据集data_new2\n",
    "\n",
    "#5、选择用户ID为5的流量信息分析绘制柱形图\n",
    "\n",
    "#6、选择用户ID为10的流量信息分布绘制饼形图\n",
    "\n"
   ]
  },
  {
   "cell_type": "code",
   "execution_count": null,
   "metadata": {},
   "outputs": [],
   "source": []
  }
 ],
 "metadata": {
  "kernelspec": {
   "display_name": "python37",
   "language": "python",
   "name": "python37"
  },
  "language_info": {
   "codemirror_mode": {
    "name": "ipython",
    "version": 3
   },
   "file_extension": ".py",
   "mimetype": "text/x-python",
   "name": "python",
   "nbconvert_exporter": "python",
   "pygments_lexer": "ipython3",
   "version": "3.9.7"
  }
 },
 "nbformat": 4,
 "nbformat_minor": 4
}
