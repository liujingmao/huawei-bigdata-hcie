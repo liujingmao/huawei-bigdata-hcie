{
 "cells": [
  {
   "cell_type": "markdown",
   "id": "3b970f59-f601-4b48-b821-4b7a7f2830ad",
   "metadata": {},
   "source": [
    "### 模型评估"
   ]
  },
  {
   "cell_type": "markdown",
   "id": "c324b624-41a8-4995-ae78-83b71467853c",
   "metadata": {},
   "source": [
    "#### 实验任务"
   ]
  },
  {
   "cell_type": "markdown",
   "id": "be3ff226-71f6-4e94-b7dc-7c296000a64e",
   "metadata": {},
   "source": [
    "##### 实验背景"
   ]
  },
  {
   "cell_type": "raw",
   "id": "2c1cdd16-54c1-44cf-8987-5237b6ce99aa",
   "metadata": {},
   "source": [
    "利用Python实现分类和回归算法的模型评估"
   ]
  },
  {
   "cell_type": "markdown",
   "id": "8063013e-f36d-4ecd-895f-af60952909ab",
   "metadata": {},
   "source": [
    "##### 实验目标"
   ]
  },
  {
   "cell_type": "raw",
   "id": "3fdd8c3c-25c5-43a6-98c9-6e0b39e7e917",
   "metadata": {},
   "source": [
    "能够使用Python调用分类和回归的模型评估方法"
   ]
  },
  {
   "cell_type": "markdown",
   "id": "6a3ed5b8-e045-45dd-b10c-d735de1b9200",
   "metadata": {},
   "source": [
    "##### 实验思路"
   ]
  },
  {
   "cell_type": "markdown",
   "id": "34636b5c-385b-4619-89be-e22b9b420090",
   "metadata": {},
   "source": [
    "- 生成实验数据\n",
    "- 代入数据集实现分类和回归的模型评估方法"
   ]
  },
  {
   "cell_type": "markdown",
   "id": "bfcd1a6e-101c-4671-9016-8a7e1f302f79",
   "metadata": {},
   "source": [
    "##### 实验操作步骤"
   ]
  },
  {
   "cell_type": "markdown",
   "id": "27f9b09d-a820-42ca-aa55-594af4b5f35a",
   "metadata": {},
   "source": [
    "###### 步骤1 分类效果评价指标"
   ]
  },
  {
   "cell_type": "code",
   "execution_count": null,
   "id": "ffe44581-e07a-493e-98c4-aa386c54c780",
   "metadata": {},
   "outputs": [
    {
     "name": "stdout",
     "output_type": "stream",
     "text": [
      "0.5 2\n"
     ]
    }
   ],
   "source": [
    "# accuracy_score = 预测正确的样本率/总样本率\n",
    "import numpy as np\n",
    "from sklearn.metrics import accuracy_score\n",
    "y_pred = [0,2,1,3]\n",
    "y_true = [0,1,2,3]\n",
    "\n",
    "a = accuracy_score(y_true,y_pred)\n",
    "b = accuracy_score(y_true,y_pred,normalize=False)\n",
    "# 输出预测准确率\n",
    "print(a,b)\n",
    "#结果如下:"
   ]
  },
  {
   "cell_type": "code",
   "execution_count": 2,
   "id": "9da0d8e3-17d3-4abf-be47-0044e7a8194c",
   "metadata": {},
   "outputs": [
    {
     "name": "stdout",
     "output_type": "stream",
     "text": [
      "[[2 0 0]\n",
      " [0 0 1]\n",
      " [1 0 2]]\n"
     ]
    }
   ],
   "source": [
    "# 导入生成混淆矩阵的方法\n",
    "from sklearn.metrics import confusion_matrix\n",
    "# 多值类型\n",
    "y_true = [2,0,2,2,0,1]\n",
    "y_pred = [0,0,2,2,0,2]\n",
    "#输出混淆矩阵\n",
    "print(confusion_matrix(y_true,y_pred))"
   ]
  },
  {
   "cell_type": "code",
   "execution_count": 4,
   "id": "0be2c5ee-404e-437a-9bef-65736355f1b3",
   "metadata": {},
   "outputs": [
    {
     "name": "stdout",
     "output_type": "stream",
     "text": [
      "[[2 1]\n",
      " [2 3]]\n"
     ]
    }
   ],
   "source": [
    "# 二值类型\n",
    "y_true = [0,0,0,1,1,1,1,1]\n",
    "y_pred = [0,1,0,1,0,1,0,1]\n",
    "print(confusion_matrix(y_true,y_pred))"
   ]
  },
  {
   "cell_type": "code",
   "execution_count": 5,
   "id": "068d1822-3fe4-447e-88a2-b3a5f1088a51",
   "metadata": {},
   "outputs": [
    {
     "name": "stdout",
     "output_type": "stream",
     "text": [
      "2 1 2 3\n"
     ]
    }
   ],
   "source": [
    "tn,fp,fn,tp = confusion_matrix(y_true,y_pred).ravel()\n",
    "print(tn,fp,fn,tp)"
   ]
  },
  {
   "cell_type": "code",
   "execution_count": 6,
   "id": "037a12a6-deeb-4a72-905f-a5e407b6aae8",
   "metadata": {},
   "outputs": [
    {
     "data": {
      "text/plain": [
       "1.0"
      ]
     },
     "execution_count": 6,
     "metadata": {},
     "output_type": "execute_result"
    }
   ],
   "source": [
    "# 查准率\n",
    "from sklearn import metrics\n",
    "y_pred = [0,1,0,0]\n",
    "y_true = [0,1,0,1]\n",
    "metrics.precision_score(y_true,y_pred)  # precision = tp/(tp+fp)"
   ]
  },
  {
   "cell_type": "code",
   "execution_count": 7,
   "id": "b5d4ec41-2c1f-40e0-a343-9387b734023d",
   "metadata": {},
   "outputs": [
    {
     "data": {
      "text/plain": [
       "0.5"
      ]
     },
     "execution_count": 7,
     "metadata": {},
     "output_type": "execute_result"
    }
   ],
   "source": [
    "# 召回率查看\n",
    "metrics.recall_score(y_true,y_pred)"
   ]
  },
  {
   "cell_type": "code",
   "execution_count": 8,
   "id": "f0c74103-d4df-4e72-b4c8-cc210ded91b9",
   "metadata": {},
   "outputs": [
    {
     "data": {
      "text/plain": [
       "0.6666666666666666"
      ]
     },
     "execution_count": 8,
     "metadata": {},
     "output_type": "execute_result"
    }
   ],
   "source": [
    "metrics.f1_score(y_true,y_pred)"
   ]
  },
  {
   "cell_type": "code",
   "execution_count": 9,
   "id": "247e62eb-092d-4c34-8c2a-ab50749763aa",
   "metadata": {},
   "outputs": [
    {
     "data": {
      "text/plain": [
       "0.8333333333333334"
      ]
     },
     "execution_count": 9,
     "metadata": {},
     "output_type": "execute_result"
    }
   ],
   "source": [
    "metrics.fbeta_score(y_true,y_pred,beta=0.5)"
   ]
  },
  {
   "cell_type": "code",
   "execution_count": 10,
   "id": "cd6dbde8-1af5-4b41-993c-3966713f8a22",
   "metadata": {},
   "outputs": [
    {
     "data": {
      "text/plain": [
       "0.6666666666666666"
      ]
     },
     "execution_count": 10,
     "metadata": {},
     "output_type": "execute_result"
    }
   ],
   "source": [
    "metrics.fbeta_score(y_true,y_pred,beta=1)"
   ]
  },
  {
   "cell_type": "code",
   "execution_count": 11,
   "id": "c3196769-e16e-4650-b79c-1c04087a509e",
   "metadata": {},
   "outputs": [
    {
     "data": {
      "text/plain": [
       "0.5555555555555556"
      ]
     },
     "execution_count": 11,
     "metadata": {},
     "output_type": "execute_result"
    }
   ],
   "source": [
    "metrics.fbeta_score(y_true,y_pred,beta=2)"
   ]
  },
  {
   "cell_type": "raw",
   "id": "5934509f-53a5-4ae7-9e4b-ee650f14fcb5",
   "metadata": {},
   "source": [
    "# Classfication report 分类结果统计报告"
   ]
  },
  {
   "cell_type": "code",
   "execution_count": 12,
   "id": "8a585dba-3383-4965-b4e7-c54918e75635",
   "metadata": {},
   "outputs": [
    {
     "name": "stdout",
     "output_type": "stream",
     "text": [
      "              precision    recall  f1-score   support\n",
      "\n",
      "     class 0       0.67      1.00      0.80         2\n",
      "     class 1       0.00      0.00      0.00         1\n",
      "     class 2       1.00      0.50      0.67         2\n",
      "\n",
      "    accuracy                           0.60         5\n",
      "   macro avg       0.56      0.50      0.49         5\n",
      "weighted avg       0.67      0.60      0.59         5\n",
      "\n"
     ]
    }
   ],
   "source": [
    "from sklearn.metrics import classification_report\n",
    "y_true = [0,1,2,2,0]\n",
    "y_pred = [0,0,2,1,0]\n",
    "target_names = ['class 0','class 1','class 2']\n",
    "print(classification_report(y_true,y_pred,target_names=target_names))"
   ]
  },
  {
   "cell_type": "raw",
   "id": "ee720df4-9356-4a73-8eea-dfc30b6ce9a8",
   "metadata": {},
   "source": [
    "#### 本案例通过对集成算法间的比较,来更好地理解分类模型的评估方法"
   ]
  },
  {
   "cell_type": "code",
   "execution_count": null,
   "id": "cf8260bc-6eb0-41da-8537-b66d030c4017",
   "metadata": {},
   "outputs": [],
   "source": [
    "from sklearn.model_selection import train_test_split\n",
    "import pandas as pd\n",
    "import matplotlib.pyplot as plt\n",
    "from sklearn.ensemble import BaggingClassifier,AdaBoostClassifier,GradientBoostingClassifier,RandomForestClassifiert X\n",
    "from xgboost.sklearn import XGB"
   ]
  },
  {
   "cell_type": "code",
   "execution_count": null,
   "id": "10b93d3b-d0f1-4304-919d-d74d8d3694d4",
   "metadata": {},
   "outputs": [],
   "source": []
  }
 ],
 "metadata": {
  "kernelspec": {
   "display_name": "Python 3 (ipykernel)",
   "language": "python",
   "name": "python3"
  },
  "language_info": {
   "codemirror_mode": {
    "name": "ipython",
    "version": 3
   },
   "file_extension": ".py",
   "mimetype": "text/x-python",
   "name": "python",
   "nbconvert_exporter": "python",
   "pygments_lexer": "ipython3",
   "version": "3.9.7"
  }
 },
 "nbformat": 4,
 "nbformat_minor": 5
}
