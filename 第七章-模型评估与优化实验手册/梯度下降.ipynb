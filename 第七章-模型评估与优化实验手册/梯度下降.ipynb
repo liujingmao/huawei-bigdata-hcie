{
 "cells": [
  {
   "cell_type": "raw",
   "id": "1bacba3b-111f-4199-9458-2d3249b3b4c4",
   "metadata": {},
   "source": [
    "### "
   ]
  },
  {
   "cell_type": "code",
   "execution_count": null,
   "id": "5db4a28a-8cf4-406b-99c0-cbdaed0cba31",
   "metadata": {},
   "outputs": [],
   "source": [
    "import numpy as np\n",
    "import matplotlib.pyplot as plt\n",
    "np.random.seed(0)"
   ]
  },
  {
   "cell_type": "code",
   "execution_count": null,
   "id": "e3d81aff-2e11-4411-aeea-a0ec5991ba20",
   "metadata": {},
   "outputs": [],
   "source": [
    "# 构造训练数据,这个数据不包括x0\n",
    "x = np.arange(0.,10.,0.2)\n",
    "# the len of trained data\n",
    "m = len(x)"
   ]
  },
  {
   "cell_type": "code",
   "execution_count": null,
   "id": "30ae038c-1728-43f2-b3b8-21fccce2ca36",
   "metadata": {},
   "outputs": [],
   "source": [
    "x0 = np.full(m,1.0)"
   ]
  },
  {
   "cell_type": "code",
   "execution_count": null,
   "id": "4647feaf-7a93-45e3-9272-6144ccadafbb",
   "metadata": {},
   "outputs": [],
   "source": [
    "x0"
   ]
  },
  {
   "cell_type": "code",
   "execution_count": null,
   "id": "9a430843-f2d3-4699-87cb-584d9dee3deb",
   "metadata": {},
   "outputs": [],
   "source": [
    "# 将x,x0拼接起来,组成完成的训练数据\n",
    "input_data = np.vstack([x0,x]).T # 将偏置b作为权向量的第一个分量\n",
    "print(input_data)\n",
    "\n",
    "# y_train \n",
    "\n",
    "target_data = 2 * x + 5 + np.random.randn(m)"
   ]
  },
  {
   "cell_type": "code",
   "execution_count": null,
   "id": "b777925b-a890-40b0-8f53-e0543af68f7c",
   "metadata": {},
   "outputs": [],
   "source": [
    "# 设置两种终止条件\n",
    "loop_max = 1000000\n",
    "epsilon = 1e-5"
   ]
  },
  {
   "cell_type": "code",
   "execution_count": null,
   "id": "1b3a37e5-f437-4131-852b-ea89abe5cdfc",
   "metadata": {},
   "outputs": [],
   "source": [
    "# 初始化权值\n",
    "theta = np.random.randn(2)\n",
    "alpha = 0.00001\n"
   ]
  },
  {
   "cell_type": "code",
   "execution_count": null,
   "id": "1157aa38-7b65-497b-9d1e-a03ef600ccd3",
   "metadata": {},
   "outputs": [],
   "source": [
    "# 记录误差变量\n",
    "error = np.zeros(2)\n",
    "count = 0 "
   ]
  },
  {
   "cell_type": "code",
   "execution_count": 14,
   "id": "a5304434-7cb5-4a2e-a67c-5d60ef119e5b",
   "metadata": {},
   "outputs": [
    {
     "name": "stdout",
     "output_type": "stream",
     "text": [
      "loop count = 34921 \tw: [5.76786089 1.86794561]\n"
     ]
    }
   ],
   "source": [
    "while count < loop_max:\n",
    "    count+=1\n",
    "    sum_m = np.zeros(2)\n",
    "    for i in range(m):\n",
    "        dif = (np.dot(theta,input_data[i]) - target_data[i])*input_data[i]\n",
    "        sum_m = sum_m + dif\n",
    "        \n",
    "    theta = theta - alpha * sum_m\n",
    "    \n",
    "    if np.linalg.norm(theta - error)<epsilon:\n",
    "        break\n",
    "    else:\n",
    "        error  = theta\n",
    "    print('loop count = %d' % count, '\\tw:', theta)\n",
    "#print('loop count = %d' % count, '\\tw:', theta)\n"
   ]
  },
  {
   "cell_type": "code",
   "execution_count": 13,
   "id": "a82f1c0a-9f1c-4751-bcbf-fad2ab630cbd",
   "metadata": {},
   "outputs": [
    {
     "data": {
      "image/png": "[encoded data removed]",
      "text/plain": [
       "<Figure size 432x288 with 1 Axes>"
      ]
     },
     "metadata": {
      "needs_background": "light"
     },
     "output_type": "display_data"
    }
   ],
   "source": [
    "plt.plot(x,target_data,'g*')\n",
    "plt.plot(x,theta[1]*x+theta[0],'r')\n",
    "plt.show()"
   ]
  },
  {
   "cell_type": "code",
   "execution_count": null,
   "id": "7965b958-ae20-4382-b4ad-3f0e67812088",
   "metadata": {},
   "outputs": [],
   "source": []
  },
  {
   "cell_type": "code",
   "execution_count": null,
   "id": "9e77b52d-51bd-4223-b423-c61018fb40b7",
   "metadata": {},
   "outputs": [],
   "source": []
  },
  {
   "cell_type": "code",
   "execution_count": null,
   "id": "08fbd623-c361-493a-bbec-314493de3148",
   "metadata": {},
   "outputs": [],
   "source": []
  }
 ],
 "metadata": {
  "kernelspec": {
   "display_name": "Python 3 (ipykernel)",
   "language": "python",
   "name": "python3"
  },
  "language_info": {
   "codemirror_mode": {
    "name": "ipython",
    "version": 3
   },
   "file_extension": ".py",
   "mimetype": "text/x-python",
   "name": "python",
   "nbconvert_exporter": "python",
   "pygments_lexer": "ipython3",
   "version": "3.9.7"
  }
 },
 "nbformat": 4,
 "nbformat_minor": 5
}
