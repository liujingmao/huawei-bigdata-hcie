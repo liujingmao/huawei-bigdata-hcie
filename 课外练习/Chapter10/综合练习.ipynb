{
 "cells": [
  {
   "cell_type": "raw",
   "id": "d14a8652-d69f-4171-9064-ba05fd98ea53",
   "metadata": {},
   "source": [
    "任务：根据original_data样本，建立模型，对test_data的图片进行普通/其他苹果判断：\n",
    "1.数据增强，扩充确认为普通苹果的样本数量\n",
    "2.特征提取，使用VGG16模型提取图像特征\n",
    "3.图片批量处理\n",
    "4.Kmeans模型尝试普通、其他苹果聚类\n",
    "5.基于标签数据矫正结果，并可视化\n",
    "6.Meanshift模型提升模型表现\n",
    "7.数据降维PCA处理，提升模型表现"
   ]
  },
  {
   "cell_type": "raw",
   "id": "73f9babf-873a-42ff-80c7-9bbf4b993019",
   "metadata": {},
   "source": [
    "普通/其他苹果检测实战summary：\n",
    "1、通过搭建混合模型，实现了监督+无监督、机器+深度学习技术的有机结合，并在少样本情况下建立起了有效区分普通苹果与其他苹果的模型；\n",
    "2、针对少样本任务，掌握了生成新数据的数据增强方法；\n",
    "3、更熟练的掌握了拆分经典VGG16模型并用于提取图像特征的方法；\n",
    "4、完成了图像的批量处理；\n",
    "5、回顾了无监督聚类算法：KMeans、Meanshift，并通过标签数据分布实现数据类别矫正；\n",
    "6、成功引入PCA数据降维技术，剔除了数据中的噪音信息、降低了模型复杂度、减少了模型训练时间，并最终提高了模型表现；\n",
    "7、可以考虑一些其他方法去完成任务，比如异常数据检测技术"
   ]
  },
  {
   "cell_type": "code",
   "execution_count": null,
   "id": "153c5c00-c5e8-44e1-8299-68fc22113a3f",
   "metadata": {},
   "outputs": [],
   "source": []
  },
  {
   "cell_type": "code",
   "execution_count": null,
   "id": "08005496-ea9b-46aa-8428-8bb1fb09c47f",
   "metadata": {},
   "outputs": [],
   "source": []
  }
 ],
 "metadata": {
  "kernelspec": {
   "display_name": "imooc_ai",
   "language": "python",
   "name": "imooc_ai"
  },
  "language_info": {
   "codemirror_mode": {
    "name": "ipython",
    "version": 3
   },
   "file_extension": ".py",
   "mimetype": "text/x-python",
   "name": "python",
   "nbconvert_exporter": "python",
   "pygments_lexer": "ipython3",
   "version": "3.7.5"
  }
 },
 "nbformat": 4,
 "nbformat_minor": 5
}
